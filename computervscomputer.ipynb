{
 "metadata": {
  "language_info": {
   "codemirror_mode": {
    "name": "ipython",
    "version": 3
   },
   "file_extension": ".py",
   "mimetype": "text/x-python",
   "name": "python",
   "nbconvert_exporter": "python",
   "pygments_lexer": "ipython3",
   "version": "3.9.0-final"
  },
  "orig_nbformat": 2,
  "kernelspec": {
   "name": "python3",
   "display_name": "Python 3.9.0 64-bit",
   "metadata": {
    "interpreter": {
     "hash": "639f361ad657fd45530bdd3e74f62afebc8edc35ba6ab7eef1042ba440bc9585"
    }
   }
  }
 },
 "nbformat": 4,
 "nbformat_minor": 2,
 "cells": [
  {
   "cell_type": "code",
   "execution_count": 26,
   "metadata": {},
   "outputs": [],
   "source": [
    "import random\n",
    "import time"
   ]
  },
  {
   "cell_type": "code",
   "execution_count": 27,
   "metadata": {},
   "outputs": [],
   "source": [
    "def print_current_state():\n",
    "    print(f\"\"\"{\" | \".join(cells_dict[cell] for cell in cells[0: 3])}\n",
    "---------\n",
    "{\" | \".join(cells_dict[cell] for cell in cells[3: 6])}\n",
    "---------\n",
    "{\" | \".join(cells_dict[cell] for cell in cells[6:])}\n",
    "\n",
    "----------------------------------------------\n",
    "\"\"\")"
   ]
  },
  {
   "cell_type": "code",
   "execution_count": 28,
   "metadata": {},
   "outputs": [],
   "source": [
    "def choose_cell():\n",
    "    global cells_dict\n",
    "    print_current_state()\n",
    "    char = xo[count % 2]\n",
    "    opp_char = xo[count % 2 - 1]\n",
    "    if count < 3:\n",
    "        while True:\n",
    "            random_cell = random.choice(cells)\n",
    "            if cells_dict.get(random_cell) == \" \":\n",
    "                cells_dict[random_cell] = char\n",
    "                break\n",
    "\n",
    "    else:\n",
    "        for triple in triples:\n",
    "            triple_cells_content = [cells_dict[triple[i]] for i in range(3)]\n",
    "            if triple_cells_content.count(char) == 2 and triple_cells_content.count(\" \") == 1:\n",
    "                for cell in triple:\n",
    "                    cells_dict[cell] = char\n",
    "                return\n",
    "        for triple in triples:\n",
    "            triple_cells_content = [cells_dict[triple[i]] for i in range(3)]\n",
    "            if triple_cells_content.count(opp_char) == 2 and triple_cells_content.count(\" \") == 1:\n",
    "                for cell in triple:\n",
    "                    if cells_dict[cell] == \" \":\n",
    "                        cells_dict[cell] = char\n",
    "                return\n",
    "        for triple in triples:\n",
    "            triple_cells_content = [cells_dict[triple[i]] for i in range(3)]\n",
    "            if triple_cells_content.count(char) == 1 and triple_cells_content.count(\" \") == 2:\n",
    "                for cell in triple:\n",
    "                    if triple_cells_content.count(char) == 1:\n",
    "                        cells_dict[cell] = char\n",
    "                        triple_cells_content = [cells_dict[triple[i]] for i in range(3)]\n",
    "                return\n",
    "        while True:\n",
    "            random_cell = cells_dict[random.choice(cells)]\n",
    "            if cells_dict.get(random_cell) == \" \":\n",
    "                cells_dict[random_cell] = char\n",
    "                return"
   ]
  },
  {
   "cell_type": "code",
   "execution_count": 29,
   "metadata": {},
   "outputs": [],
   "source": [
    "def check_winner():\n",
    "    time.sleep(2)\n",
    "    for triple in triples:\n",
    "        triple_cells_content = [cells_dict[triple[i]] for i in range(3)]\n",
    "        if len(set(triple_cells_content)) == 1 and triple_cells_content[0] != \" \":\n",
    "            print_current_state()\n",
    "            if count % 2 == 1:\n",
    "                return \"Player 1 won\"\n",
    "            else:\n",
    "                return \"Player 2 won\"\n",
    "\n",
    "    if count == 10:\n",
    "        return \"DRAW\""
   ]
  },
  {
   "cell_type": "code",
   "execution_count": 30,
   "metadata": {},
   "outputs": [],
   "source": [
    "xo = [\"O\", \"X\"]\n",
    "cells = [\"A1\", \"A2\", \"A3\", \"B1\", \"B2\", \"B3\", \"C1\", \"C2\", \"C3\"]\n",
    "cells_dict = {cell: \" \" for cell in cells}\n",
    "triples = [[\"A1\", \"A2\", \"A3\"], [\"B1\", \"B2\", \"B3\"], [\"C1\", \"C2\", \"C3\"],\n",
    "           [\"A1\", \"B1\", \"C1\"], [\"A2\", \"B2\", \"C2\"], [\"A3\", \"B3\", \"C3\"],\n",
    "           [\"A1\", \"B2\", \"C3\"], [\"A3\", \"B2\", \"C1\"]]\n",
    "count = 1 "
   ]
  },
  {
   "cell_type": "code",
   "execution_count": 31,
   "metadata": {},
   "outputs": [
    {
     "output_type": "stream",
     "name": "stdout",
     "text": [
      "  |   |  \n",
      "---------\n",
      "  |   |  \n",
      "---------\n",
      "  |   |  \n",
      "\n",
      "----------------------------------------------\n",
      "\n",
      "  |   |  \n",
      "---------\n",
      "  | X |  \n",
      "---------\n",
      "  |   |  \n",
      "\n",
      "----------------------------------------------\n",
      "\n",
      "  | O |  \n",
      "---------\n",
      "  | X |  \n",
      "---------\n",
      "  |   |  \n",
      "\n",
      "----------------------------------------------\n",
      "\n",
      "  | O |  \n",
      "---------\n",
      "X | X |  \n",
      "---------\n",
      "  |   |  \n",
      "\n",
      "----------------------------------------------\n",
      "\n",
      "  | O |  \n",
      "---------\n",
      "X | X | O\n",
      "---------\n",
      "  |   |  \n",
      "\n",
      "----------------------------------------------\n",
      "\n",
      "X | O |  \n",
      "---------\n",
      "X | X | O\n",
      "---------\n",
      "  |   |  \n",
      "\n",
      "----------------------------------------------\n",
      "\n",
      "X | O |  \n",
      "---------\n",
      "X | X | O\n",
      "---------\n",
      "O |   |  \n",
      "\n",
      "----------------------------------------------\n",
      "\n",
      "X | O |  \n",
      "---------\n",
      "X | X | O\n",
      "---------\n",
      "O |   | X\n",
      "\n",
      "----------------------------------------------\n",
      "\n",
      "Player 1 won\n"
     ]
    }
   ],
   "source": [
    "while True:\n",
    "    choose_cell()\n",
    "    winner = check_winner()\n",
    "    if winner:\n",
    "        print(winner)\n",
    "        break\n",
    "    count += 1\n",
    "    if count == 10:\n",
    "        print(\"Draw\")\n",
    "        break"
   ]
  },
  {
   "cell_type": "code",
   "execution_count": null,
   "metadata": {},
   "outputs": [],
   "source": []
  }
 ]
}