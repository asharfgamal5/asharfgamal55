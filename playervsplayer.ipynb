{
 "metadata": {
  "language_info": {
   "codemirror_mode": {
    "name": "ipython",
    "version": 3
   },
   "file_extension": ".py",
   "mimetype": "text/x-python",
   "name": "python",
   "nbconvert_exporter": "python",
   "pygments_lexer": "ipython3",
   "version": "3.7.6-final"
  },
  "orig_nbformat": 2,
  "kernelspec": {
   "name": "python3",
   "display_name": "Python 3.7.6 64-bit (conda)",
   "metadata": {
    "interpreter": {
     "hash": "b2d2dc41cbfaf67ac4a91a427b68830b69dde48fe3ce74dedd3ecbeef6226b1d"
    }
   }
  }
 },
 "nbformat": 4,
 "nbformat_minor": 2,
 "cells": [
  {
   "cell_type": "code",
   "execution_count": 1,
   "metadata": {},
   "outputs": [],
   "source": [
    "def print_current_state(inputs, inputs_dict):\n",
    "    print(f\"\"\"{\" | \".join(inputs_dict[cell] for cell in inputs[0: 3])}\n",
    "---------\n",
    "{\" | \".join(inputs_dict[cell] for cell in inputs[3: 6])}\n",
    "---------\n",
    "{\" | \".join(inputs_dict[cell] for cell in inputs[6:])}\"\"\" )\n",
    "\n",
    "    print(\"Empty cells are: \")\n",
    "    print(\"  \".join(cell for cell in inputs if inputs_dict[cell] == \" \"))"
   ]
  },
  {
   "cell_type": "code",
   "execution_count": 2,
   "metadata": {},
   "outputs": [],
   "source": [
    "def choose_cell(inputs_dict):\n",
    "    global count\n",
    "    print_current_state(cells, cells_dict)\n",
    "    while True:\n",
    "        try:\n",
    "            chosen_cell = input(\"Choose a cell: \").upper()\n",
    "        except:\n",
    "            print(\"Please choose a valid and empty cell.\")\n",
    "        else:\n",
    "            if inputs_dict.get(chosen_cell) == \" \":\n",
    "                if count % 2 == 1:\n",
    "                    inputs_dict[chosen_cell] = \"X\"\n",
    "                else:\n",
    "                    inputs_dict[chosen_cell] = \"O\"\n",
    "                break\n",
    "            else:\n",
    "                print(\"Please choose an empty cell.\")"
   ]
  },
  {
   "cell_type": "code",
   "execution_count": 3,
   "metadata": {},
   "outputs": [],
   "source": [
    "def check_winner(groups, cells_dict):\n",
    "    global count\n",
    "    for group in groups:\n",
    "        group_cells_content = [cells_dict[group[i]] for i in range(3)]\n",
    "        if len(set(group_cells_content)) == 1 and group_cells_content[0] != \" \":\n",
    "            if count % 2 == 1:\n",
    "                return \"Player 1 won\"\n",
    "            else:\n",
    "                return \"Player 2 won\"\n",
    "    count += 1"
   ]
  },
  {
   "cell_type": "code",
   "execution_count": 4,
   "metadata": {},
   "outputs": [],
   "source": [
    "cells = [\"A1\", \"A2\", \"A3\", \"B1\", \"B2\", \"B3\", \"C1\", \"C2\", \"C3\"]\n",
    "cells_dict = {cell: \" \" for cell in cells}\n",
    "triples = [[\"A1\", \"A2\", \"A3\"], [\"B1\", \"B2\", \"B3\"], [\"C1\", \"C2\", \"C3\"],\n",
    "[\"A1\", \"B1\", \"C1\"], [\"A2\", \"B2\", \"C2\"], [\"A3\", \"B3\", \"C3\"],\n",
    "[\"A1\", \"B2\", \"C3\"], [\"A3\", \"B2\", \"C1\"]]\n",
    "count = 1    "
   ]
  },
  {
   "cell_type": "code",
   "execution_count": 5,
   "metadata": {},
   "outputs": [
    {
     "output_type": "stream",
     "name": "stdout",
     "text": [
      "  |   |  \n",
      "---------\n",
      "  |   |  \n",
      "---------\n",
      "  |   |  \n",
      "Empty cells are: \n",
      "A1  A2  A3  B1  B2  B3  C1  C2  C3\n",
      "X |   |  \n",
      "---------\n",
      "  |   |  \n",
      "---------\n",
      "  |   |  \n",
      "Empty cells are: \n",
      "A2  A3  B1  B2  B3  C1  C2  C3\n",
      "X | O |  \n",
      "---------\n",
      "  |   |  \n",
      "---------\n",
      "  |   |  \n",
      "Empty cells are: \n",
      "A3  B1  B2  B3  C1  C2  C3\n",
      "X | O | X\n",
      "---------\n",
      "  |   |  \n",
      "---------\n",
      "  |   |  \n",
      "Empty cells are: \n",
      "B1  B2  B3  C1  C2  C3\n",
      "Please choose an empty cell.\n",
      "X | O | X\n",
      "---------\n",
      "  | O |  \n",
      "---------\n",
      "  |   |  \n",
      "Empty cells are: \n",
      "B1  B3  C1  C2  C3\n",
      "X | O | X\n",
      "---------\n",
      "X | O |  \n",
      "---------\n",
      "  |   |  \n",
      "Empty cells are: \n",
      "B3  C1  C2  C3\n",
      "X | O | X\n",
      "---------\n",
      "X | O |  \n",
      "---------\n",
      "  | O |  \n",
      "Empty cells are: \n",
      "B3  C1  C3\n",
      "Player 2 won\n"
     ]
    }
   ],
   "source": [
    "while True:\n",
    "    choose_cell(cells_dict)\n",
    "    winner = check_winner(triples, cells_dict)\n",
    "    if winner:\n",
    "        print_current_state(cells, cells_dict)\n",
    "        print(winner)\n",
    "        break"
   ]
  },
  {
   "cell_type": "code",
   "execution_count": null,
   "metadata": {},
   "outputs": [],
   "source": []
  }
 ]
}